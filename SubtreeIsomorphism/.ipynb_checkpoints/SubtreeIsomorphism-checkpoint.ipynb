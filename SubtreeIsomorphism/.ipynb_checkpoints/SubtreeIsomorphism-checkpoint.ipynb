{
 "cells": [
  {
   "cell_type": "markdown",
   "metadata": {},
   "source": []
  },
  {
   "cell_type": "code",
   "execution_count": 14,
   "metadata": {
    "collapsed": true
   },
   "outputs": [],
   "source": [
    "# Set up\n",
    "import copy\n",
    "import pprint\n",
    "pp = pprint.PrettyPrinter(indent=4)"
   ]
  },
  {
   "cell_type": "code",
   "execution_count": null,
   "metadata": {
    "collapsed": true
   },
   "outputs": [],
   "source": []
  },
  {
   "cell_type": "code",
   "execution_count": 23,
   "metadata": {
    "collapsed": true
   },
   "outputs": [],
   "source": [
    "# Input tree pattern as an Adjacency List\n",
    "pattern = {\n",
    "    'p':['q','r'],\n",
    "    'q':[],\n",
    "    'r':['s'],\n",
    "    's':[]\n",
    "}\n",
    "# Pattern Node values\n",
    "valpattern = {\n",
    "    'p':'a',\n",
    "    'q':'b',\n",
    "    'r':'c',\n",
    "    's':'d'\n",
    "}\n",
    "rootpattern = 'p'"
   ]
  },
  {
   "cell_type": "code",
   "execution_count": 20,
   "metadata": {
    "collapsed": true
   },
   "outputs": [],
   "source": [
    "# Input Tree as an Adjacency List\n",
    "tree = {\n",
    "    '1':['2','3','4'],\n",
    "    '2':['10','11'],\n",
    "    '3':['5','6'],\n",
    "    '4':['7','8','9'],\n",
    "    '5':['19'],\n",
    "    '6':['12'],\n",
    "    '7':[],\n",
    "    '8':['13','14'],\n",
    "    '9':[],\n",
    "    '10':['15'],\n",
    "    '11':['16','17','18'],\n",
    "    '12':[],\n",
    "    '13':[],\n",
    "    '14':[],\n",
    "    '15':[],\n",
    "    '16':[],\n",
    "    '17':[],\n",
    "    '18':[],\n",
    "    '19':[]\n",
    "}\n",
    "# Tree Node Values\n",
    "valtree={\n",
    "    '1':'a',\n",
    "    '2':'b',\n",
    "    '3':'c',\n",
    "    '4':'a',\n",
    "    '5':'d',\n",
    "    '6':'e',\n",
    "    '7':'b',\n",
    "    '8':'c',\n",
    "    '9':'c',\n",
    "    '10':'c',\n",
    "    '11':'b',\n",
    "    '12':'f',\n",
    "    '13':'e',\n",
    "    '14':'d',\n",
    "    '15':'d',\n",
    "    '16':'g',\n",
    "    '17':'f',\n",
    "    '18':'e',\n",
    "    '19':'a'\n",
    "}\n",
    "roottree = '1'"
   ]
  },
  {
   "cell_type": "code",
   "execution_count": 17,
   "metadata": {
    "collapsed": true
   },
   "outputs": [],
   "source": [
    "# Add the current node iterated to the subtrees\n",
    "def addToTree(trees,commonroot,treeroots):\n",
    "    for node in trees:\n",
    "        for treeroot in treeroots:\n",
    "            if commonroot not in node:\n",
    "                node[commonroot] = [treeroot]\n",
    "            else:\n",
    "                node[commonroot].append(treeroot)\n",
    "    return trees\n",
    "\n",
    "# Merge two subtrees\n",
    "def mergeTree(tree1,tree2):\n",
    "    if len(tree1) == 0:\n",
    "        return tree2\n",
    "    if len(tree2) == 0:\n",
    "        return tree1\n",
    "    res = []\n",
    "    for node1 in tree1:\n",
    "        for node2 in tree2:\n",
    "            res.append(dict(node1.items() + node2.items()))\n",
    "    return res\n",
    "\n",
    "# Get the hash value for the pattern tree\n",
    "def getHashPattern(tree,root):\n",
    "    hashvalues = []\n",
    "    for child in tree[root]:\n",
    "        hashvalues.append(getHashPattern(tree,child))\n",
    "    if len(hashvalues) == 0:\n",
    "        return hash(frozenset([valpattern[root]]))\n",
    "    return hash(frozenset(hashvalues))\n",
    "\n",
    "# Get the hash value for the subtree from the input tree\n",
    "def getHashTree(tree,root):\n",
    "    hashvalues = []\n",
    "    for child in tree[root]:\n",
    "        hashvalues.append(getHashTree(tree,child))\n",
    "    if len(hashvalues) == 0:\n",
    "        return hash(frozenset([valtree[root]]))\n",
    "    return hash(frozenset(hashvalues))"
   ]
  },
  {
   "cell_type": "code",
   "execution_count": 25,
   "metadata": {},
   "outputs": [
    {
     "name": "stdout",
     "output_type": "stream",
     "text": [
      "{   '1': ['2', '3'], '2': [], '3': ['5'], '5': []}\n",
      "{   '10': ['15'], '11': [], '15': [], '2': ['10', '11']}\n",
      "{   '14': [], '4': ['7', '8'], '7': [], '8': ['14']}\n",
      "3\n"
     ]
    }
   ],
   "source": [
    "# Traverse the tree to find all subtrees. Once a subtree is found, it is hash-compared with the pattern.\n",
    "treesAtNode = {}\n",
    "def dfs(node):\n",
    "    if node in treesAtNode:\n",
    "        return treesAtNode[node]\n",
    "    n = len(tree[node])\n",
    "    allTrees = []\n",
    "    for i in range(1<<n):\n",
    "        res = []\n",
    "        nbors = []\n",
    "        if(i == 0):\n",
    "            res = [{node:[]}]\n",
    "        else:\n",
    "            for j in range(n):\n",
    "                if(i & (1<<j)):\n",
    "                    res = mergeTree(res,dfs(tree[node][j]))\n",
    "                    nbors.append(tree[node][j])\n",
    "        addToTree(res,node,nbors)\n",
    "        allTrees = allTrees + res\n",
    "\n",
    "    treesAtNode[node] = copy.deepcopy(allTrees)\n",
    "    return allTrees\n",
    "\n",
    "def printMatchedSubtrees():\n",
    "    cnt = 0\n",
    "    for node in tree:\n",
    "        if node not in treesAtNode:\n",
    "            continue\n",
    "        allTrees = treesAtNode[node]\n",
    "        for allTree in allTrees:\n",
    "            if(getHashPattern(pattern,rootpattern)==getHashTree(allTree,node)):\n",
    "                pp.pprint(allTree)\n",
    "                cnt = cnt + 1\n",
    "    print cnt\n",
    "\n",
    "dfs(roottree)\n",
    "printMatchedSubtrees()\n"
   ]
  },
  {
   "cell_type": "code",
   "execution_count": null,
   "metadata": {
    "collapsed": true
   },
   "outputs": [],
   "source": []
  }
 ],
 "metadata": {
  "kernelspec": {
   "display_name": "Python 2",
   "language": "python",
   "name": "python2"
  },
  "language_info": {
   "codemirror_mode": {
    "name": "ipython",
    "version": 2
   },
   "file_extension": ".py",
   "mimetype": "text/x-python",
   "name": "python",
   "nbconvert_exporter": "python",
   "pygments_lexer": "ipython2",
   "version": "2.7.3"
  }
 },
 "nbformat": 4,
 "nbformat_minor": 2
}
