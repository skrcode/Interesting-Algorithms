{
 "cells": [
  {
   "cell_type": "code",
   "execution_count": 318,
   "metadata": {
    "collapsed": true
   },
   "outputs": [],
   "source": [
    "pattern = {\n",
    "            'p':[],\n",
    "}\n",
    "valpattern = {\n",
    "    'p':'a',\n",
    "    'q':'b',\n",
    "    'r':'c',\n",
    "    's':'d'\n",
    "}\n"
   ]
  },
  {
   "cell_type": "code",
   "execution_count": 183,
   "metadata": {
    "collapsed": true
   },
   "outputs": [],
   "source": [
    "tree = {\n",
    "    '1':['2','3','4'],\n",
    "    '2':[],\n",
    "    '3':['5','6'],\n",
    "    '4':['7','8','9'],\n",
    "    '5':['19'],\n",
    "    '6':['12'],\n",
    "    '7':[],\n",
    "    '8':['13','14'],\n",
    "    '9':[],\n",
    "    '10':['15'],\n",
    "    '11':['16','17','18'],\n",
    "    '12':[],\n",
    "    '13':[],\n",
    "    '14':[],\n",
    "    '15':[],\n",
    "    '16':[],\n",
    "    '17':[],\n",
    "    '18':[],\n",
    "    '19':[]\n",
    "}\n",
    "valtree={\n",
    "    '1':'a',\n",
    "    '2':'b',\n",
    "    '3':'c',\n",
    "    '4':'a',\n",
    "    '5':'d',\n",
    "    '6':'e',\n",
    "    '7':'b',\n",
    "    '8':'c',\n",
    "    '9':'c',\n",
    "    '10':'c',\n",
    "    '11':'b',\n",
    "    '12':'f',\n",
    "    '13':'e',\n",
    "    '14':'d',\n",
    "    '15':'d',\n",
    "    '16':'g',\n",
    "    '17':'f',\n",
    "    '18':'e',\n",
    "    '19':'a'\n",
    "}"
   ]
  },
  {
   "cell_type": "code",
   "execution_count": 184,
   "metadata": {
    "collapsed": true
   },
   "outputs": [],
   "source": [
    "rootpattern = 'p'\n",
    "roottree = ['1']"
   ]
  },
  {
   "cell_type": "code",
   "execution_count": 319,
   "metadata": {},
   "outputs": [
    {
     "name": "stdout",
     "output_type": "stream",
     "text": [
      "3\n"
     ]
    }
   ],
   "source": [
    "import copy\n",
    "\n",
    "treesAtNode = {}\n",
    "def dfs(node):\n",
    "    if node in treesAtNode:\n",
    "        return treesAtNode[node]\n",
    "    n = len(tree[node])\n",
    "    allTrees = []\n",
    "    for i in range(1<<n):\n",
    "        res = []\n",
    "        nbors = []\n",
    "        if(i == 0):\n",
    "            res = [{node:[]}]\n",
    "        else:\n",
    "            for j in range(n):\n",
    "                if(i & (1<<j)):\n",
    "                    res = mergeTree(res,dfs(tree[node][j]))\n",
    "                    nbors.append(tree[node][j])\n",
    "        addToTree(res,node,nbors)\n",
    "        allTrees = allTrees + res\n",
    "\n",
    "    treesAtNode[node] = copy.deepcopy(allTrees)\n",
    "    return allTrees\n",
    "    \n",
    "dfs('1')\n",
    "\n",
    "cnt = 0\n",
    "for node in tree:\n",
    "    if node not in treesAtNode:\n",
    "        continue\n",
    "    allTrees = treesAtNode[node]\n",
    "    for allTree in allTrees:\n",
    "        if(getHashPattern(pattern,rootpattern)==getHashTree(allTree,node)):\n",
    "            cnt = cnt + 1\n",
    "print cnt\n",
    "\n"
   ]
  },
  {
   "cell_type": "code",
   "execution_count": 116,
   "metadata": {},
   "outputs": [
    {
     "name": "stdout",
     "output_type": "stream",
     "text": [
      "{   '1': ['4'], '4': ['9'], '9': []}\n"
     ]
    }
   ],
   "source": [
    "import pprint\n",
    "pp = pprint.PrettyPrinter(indent=4)\n",
    "pp.pprint(tree)"
   ]
  },
  {
   "cell_type": "code",
   "execution_count": 138,
   "metadata": {
    "collapsed": true
   },
   "outputs": [],
   "source": [
    "tree = {\n",
    "    '1':['2','3'],\n",
    "    '2':['4','5'],\n",
    "    '3':['6','7'],\n",
    "    '4':[],\n",
    "    '5':[],\n",
    "    '6':[],\n",
    "    '7':[]\n",
    "}"
   ]
  },
  {
   "cell_type": "code",
   "execution_count": 181,
   "metadata": {
    "collapsed": true
   },
   "outputs": [],
   "source": [
    "tree1 = {\n",
    "    '1':['3','2'],\n",
    "    '2':['6','5','4'],\n",
    "    '3':[],\n",
    "    '4':[],\n",
    "    '5':[],\n",
    "    '6':[]\n",
    "}\n",
    "tree2 = {\n",
    "    '1':['2','3'],\n",
    "    '2':['4','5','6'],\n",
    "    '3':[],\n",
    "    '4':[],\n",
    "    '5':[],\n",
    "    '6':[]\n",
    "}"
   ]
  },
  {
   "cell_type": "code",
   "execution_count": 195,
   "metadata": {},
   "outputs": [],
   "source": [
    "def getHashPattern(tree,root):\n",
    "    hashvalues = []\n",
    "    for child in tree[root]:\n",
    "        hashvalues.append(getHashPattern(tree,child))\n",
    "    if len(hashvalues) == 0:\n",
    "        return hash(frozenset([valpattern[root]]))\n",
    "    return hash(frozenset(hashvalues))\n",
    "\n",
    "def getHashTree(tree,root):\n",
    "    hashvalues = []\n",
    "    for child in tree[root]:\n",
    "        hashvalues.append(getHashTree(tree,child))\n",
    "    if len(hashvalues) == 0:\n",
    "        return hash(frozenset([valtree[root]]))\n",
    "    return hash(frozenset(hashvalues))\n",
    "    "
   ]
  }
 ],
 "metadata": {
  "kernelspec": {
   "display_name": "Python 2",
   "language": "python",
   "name": "python2"
  },
  "language_info": {
   "codemirror_mode": {
    "name": "ipython",
    "version": 2
   },
   "file_extension": ".py",
   "mimetype": "text/x-python",
   "name": "python",
   "nbconvert_exporter": "python",
   "pygments_lexer": "ipython2",
   "version": "2.7.3"
  }
 },
 "nbformat": 4,
 "nbformat_minor": 2
}
