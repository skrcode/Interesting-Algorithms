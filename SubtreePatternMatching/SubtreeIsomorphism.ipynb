{
 "cells": [
  {
   "cell_type": "markdown",
   "metadata": {},
   "source": [
    "# Subtree Pattern Matching\n",
    "The subtree pattern matching problem can be described as follows. \n",
    "*Given an input tree and another pattern tree, print the occurrences of the pattern tree in the input tree.* \n",
    "\n",
    "Let's consider the following example\n",
    "- Input Tree \n",
    "<img src=\"1.png\" width=\"600\" height=\"600\" />\n",
    "- Pattern Tree\n",
    "<img src=\"4.png\" width=\"200\" height=\"200\" />\n",
    "\n",
    "From the example, we can see that there are two occurrences of the pattern.\n",
    "<img src=\"2.png\" width=\"600\" height=\"600\" />\n",
    "##### Analysing the Subtree Pattern Matching Problem\n",
    "\n",
    "- As the goal is to print all the occurrences of the pattern in the input tree, in the worst case, there could be a exponential number of pattern matchings that can occur.\n",
    "- This is because of the fact that the number of unordered subtrees in a tree is exponential.\n",
    "- Using the above notion we can come up with the idea that if the tree is traversed and all the subtrees are generated – for every subtree generated, we could check if the subtree is a match or not. This is a brute force solution to the problem. \n",
    "- There cannot be a polynomial time solution to the problem because we are bound by the number of subtrees as we have to atleast be printing them if each and every subtree is a match. Hence, time is lowerbound by the number of subtrees.\n",
    "\n",
    "##### Solving the Subtree Pattern Matching Problem\n",
    "\n",
    "We can come up with the following recurrence. \n",
    "***The subtrees starting from any node can be computed by using subtrees of its children in combination and passing via this node.***\n",
    "<img src=\"3.png\" width=\"600\" height=\"600\" />\n",
    "From the diagram above, we can see that 1 has three children : 2,3,4. So if we would like to get all the subtrees starting from node 1, we would need to figure out the subtrees starting from 2,3 and 4. Once we figure out those subtrees, we can use them to compute the answer for node 1.\n",
    "\n",
    ">That is done by using the following idea. \n",
    "The subtrees starting from 1 would include all possible combinations of subtrees starting from its children. Let us denote function num(i) as the number of subtrees starting from node i.\n",
    "*num(1) = num(2) + num(3) + num(4) + num(2)* x *num(3) + num(2)* x *num(4) + num(3)* x  *num(4) + num(2)* x *num(3)* x *num(4) + 1*\n",
    "\n",
    "What the above equation says is : \n",
    "- For all subtree combinations of the current node's children, we would need them to pass via the current node. \n",
    "- Since there could be many such combinations of subtrees, we would need to check all of them. There could 2 x 2 x 2 = 8 combinations which is basically all the subsets of the set <2,3,4>. This in code can be solved by bitmasks. \n",
    "- So essentially, if the subtrees of all the children are computed, we would need to merge them in combination with subtrees of its siblings(the current node's other children). \n",
    "- This requires a merge step which merges all subtrees of the subset in consideration via the current node. \n",
    "- This would give all subtrees starting from the current node.\n",
    "\n",
    "Since we have formulated the recurrence for any node, we can extend this for all nodes in the tree and the answer is a union of all the subtrees starting from each node.\n",
    "\n",
    ">Now, once all the subtrees are retrieved, we need to do a matching step with the pattern. For this, hashing lists in python help a lot since the hash computed for a list remains the same irrespective of the order. hash([1,2,3]) equals hash([2,3,1])\n",
    "\n",
    "So, our final answer would simply require comparison of hashed values for all subtrees with the pattern.\n"
   ]
  },
  {
   "cell_type": "code",
   "execution_count": 14,
   "metadata": {
    "collapsed": true
   },
   "outputs": [],
   "source": [
    "# Set up\n",
    "import copy\n",
    "import pprint\n",
    "pp = pprint.PrettyPrinter(indent=4)"
   ]
  },
  {
   "cell_type": "code",
   "execution_count": null,
   "metadata": {
    "collapsed": true
   },
   "outputs": [],
   "source": []
  },
  {
   "cell_type": "code",
   "execution_count": 23,
   "metadata": {
    "collapsed": true
   },
   "outputs": [],
   "source": [
    "# Input tree pattern as an Adjacency List\n",
    "pattern = {\n",
    "    'p':['q','r'],\n",
    "    'q':[],\n",
    "    'r':['s'],\n",
    "    's':[]\n",
    "}\n",
    "# Pattern Node values\n",
    "valpattern = {\n",
    "    'p':'a',\n",
    "    'q':'b',\n",
    "    'r':'c',\n",
    "    's':'d'\n",
    "}\n",
    "rootpattern = 'p'"
   ]
  },
  {
   "cell_type": "code",
   "execution_count": 20,
   "metadata": {
    "collapsed": true
   },
   "outputs": [],
   "source": [
    "# Input Tree as an Adjacency List\n",
    "tree = {\n",
    "    '1':['2','3','4'],\n",
    "    '2':['10','11'],\n",
    "    '3':['5','6'],\n",
    "    '4':['7','8','9'],\n",
    "    '5':['19'],\n",
    "    '6':['12'],\n",
    "    '7':[],\n",
    "    '8':['13','14'],\n",
    "    '9':[],\n",
    "    '10':['15'],\n",
    "    '11':['16','17','18'],\n",
    "    '12':[],\n",
    "    '13':[],\n",
    "    '14':[],\n",
    "    '15':[],\n",
    "    '16':[],\n",
    "    '17':[],\n",
    "    '18':[],\n",
    "    '19':[]\n",
    "}\n",
    "# Tree Node Values\n",
    "valtree={\n",
    "    '1':'a',\n",
    "    '2':'b',\n",
    "    '3':'c',\n",
    "    '4':'a',\n",
    "    '5':'d',\n",
    "    '6':'e',\n",
    "    '7':'b',\n",
    "    '8':'c',\n",
    "    '9':'c',\n",
    "    '10':'c',\n",
    "    '11':'b',\n",
    "    '12':'f',\n",
    "    '13':'e',\n",
    "    '14':'d',\n",
    "    '15':'d',\n",
    "    '16':'g',\n",
    "    '17':'f',\n",
    "    '18':'e',\n",
    "    '19':'a'\n",
    "}\n",
    "roottree = '1'"
   ]
  },
  {
   "cell_type": "code",
   "execution_count": 17,
   "metadata": {
    "collapsed": true
   },
   "outputs": [],
   "source": [
    "# Add the current node iterated to the subtrees\n",
    "def addToTree(trees,commonroot,treeroots):\n",
    "    for node in trees:\n",
    "        for treeroot in treeroots:\n",
    "            if commonroot not in node:\n",
    "                node[commonroot] = [treeroot]\n",
    "            else:\n",
    "                node[commonroot].append(treeroot)\n",
    "    return trees\n",
    "\n",
    "# Merge two subtrees\n",
    "def mergeTree(tree1,tree2):\n",
    "    if len(tree1) == 0:\n",
    "        return tree2\n",
    "    if len(tree2) == 0:\n",
    "        return tree1\n",
    "    res = []\n",
    "    for node1 in tree1:\n",
    "        for node2 in tree2:\n",
    "            res.append(dict(node1.items() + node2.items()))\n",
    "    return res\n",
    "\n",
    "# Get the hash value for the pattern tree\n",
    "def getHashPattern(tree,root):\n",
    "    hashvalues = []\n",
    "    for child in tree[root]:\n",
    "        hashvalues.append(getHashPattern(tree,child))\n",
    "    if len(hashvalues) == 0:\n",
    "        return hash(frozenset([valpattern[root]]))\n",
    "    return hash(frozenset(hashvalues))\n",
    "\n",
    "# Get the hash value for the subtree from the input tree\n",
    "def getHashTree(tree,root):\n",
    "    hashvalues = []\n",
    "    for child in tree[root]:\n",
    "        hashvalues.append(getHashTree(tree,child))\n",
    "    if len(hashvalues) == 0:\n",
    "        return hash(frozenset([valtree[root]]))\n",
    "    return hash(frozenset(hashvalues))"
   ]
  },
  {
   "cell_type": "code",
   "execution_count": 25,
   "metadata": {},
   "outputs": [
    {
     "name": "stdout",
     "output_type": "stream",
     "text": [
      "{   '1': ['2', '3'], '2': [], '3': ['5'], '5': []}\n",
      "{   '10': ['15'], '11': [], '15': [], '2': ['10', '11']}\n",
      "{   '14': [], '4': ['7', '8'], '7': [], '8': ['14']}\n",
      "3\n"
     ]
    }
   ],
   "source": [
    "# Traverse the tree to find all subtrees. Once a subtree is found, it is hash-compared with the pattern.\n",
    "treesAtNode = {}\n",
    "def dfs(node):\n",
    "    if node in treesAtNode:\n",
    "        return treesAtNode[node]\n",
    "    n = len(tree[node])\n",
    "    allTrees = []\n",
    "    for i in range(1<<n):\n",
    "        res = []\n",
    "        nbors = []\n",
    "        if(i == 0):\n",
    "            res = [{node:[]}]\n",
    "        else:\n",
    "            for j in range(n):\n",
    "                if(i & (1<<j)):\n",
    "                    res = mergeTree(res,dfs(tree[node][j]))\n",
    "                    nbors.append(tree[node][j])\n",
    "        addToTree(res,node,nbors)\n",
    "        allTrees = allTrees + res\n",
    "\n",
    "    treesAtNode[node] = copy.deepcopy(allTrees)\n",
    "    return allTrees\n",
    "\n",
    "def printMatchedSubtrees():\n",
    "    cnt = 0\n",
    "    for node in tree:\n",
    "        if node not in treesAtNode:\n",
    "            continue\n",
    "        allTrees = treesAtNode[node]\n",
    "        for allTree in allTrees:\n",
    "            if(getHashPattern(pattern,rootpattern)==getHashTree(allTree,node)):\n",
    "                pp.pprint(allTree)\n",
    "                cnt = cnt + 1\n",
    "    print cnt\n",
    "\n",
    "dfs(roottree)\n",
    "printMatchedSubtrees()\n"
   ]
  },
  {
   "cell_type": "code",
   "execution_count": null,
   "metadata": {
    "collapsed": true
   },
   "outputs": [],
   "source": []
  }
 ],
 "metadata": {
  "kernelspec": {
   "display_name": "Python 2",
   "language": "python",
   "name": "python2"
  },
  "language_info": {
   "codemirror_mode": {
    "name": "ipython",
    "version": 2
   },
   "file_extension": ".py",
   "mimetype": "text/x-python",
   "name": "python",
   "nbconvert_exporter": "python",
   "pygments_lexer": "ipython2",
   "version": "2.7.3"
  }
 },
 "nbformat": 4,
 "nbformat_minor": 2
}
